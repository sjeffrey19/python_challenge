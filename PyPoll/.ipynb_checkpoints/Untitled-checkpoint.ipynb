{
 "cells": [
  {
   "cell_type": "code",
   "execution_count": 27,
   "id": "dde01988-219d-4585-a5b1-80be08bb98c8",
   "metadata": {},
   "outputs": [
    {
     "name": "stdout",
     "output_type": "stream",
     "text": [
      "Election Results\n",
      "--------------------------\n",
      "Total Votes: 3521001\n",
      "--------------------------\n",
      "Khan: 63.000% (2218231)\n",
      "Correy: 20.000% (704200)\n",
      "Li: 14.000% (492940)\n",
      "O'Tooley:3.000% (105630)\n",
      "----------------------------\n",
      "Winner: Khan\n",
      "----------------------------\n"
     ]
    },
    {
     "ename": "IndexError",
     "evalue": "Replacement index 11 out of range for positional args tuple",
     "output_type": "error",
     "traceback": [
      "\u001b[0;31m---------------------------------------------------------------------------\u001b[0m",
      "\u001b[0;31mIndexError\u001b[0m                                Traceback (most recent call last)",
      "\u001b[0;32m<ipython-input-27-c0be9cf5d7be>\u001b[0m in \u001b[0;36m<module>\u001b[0;34m\u001b[0m\n\u001b[1;32m     67\u001b[0m         \u001b[0md4\u001b[0m \u001b[0;34m=\u001b[0m\u001b[0;34m(\u001b[0m\u001b[0;34mf\"----------------------------\"\u001b[0m\u001b[0;34m)\u001b[0m\u001b[0;34m\u001b[0m\u001b[0;34m\u001b[0m\u001b[0m\n\u001b[1;32m     68\u001b[0m \u001b[0;34m\u001b[0m\u001b[0m\n\u001b[0;32m---> 69\u001b[0;31m         \u001b[0mreport\u001b[0m\u001b[0;34m.\u001b[0m\u001b[0mwrite\u001b[0m\u001b[0;34m(\u001b[0m\u001b[0;34m'{}\\\\n{}\\\\n{}\\\\n{}\\\\n{}\\\\n{}\\\\n{}\\\\n{}\\\\n{}\\\\n{}\\\\n{}\\\\n{}\\\\n'\u001b[0m\u001b[0;34m.\u001b[0m\u001b[0mformat\u001b[0m\u001b[0;34m(\u001b[0m\u001b[0mtitle\u001b[0m\u001b[0;34m,\u001b[0m\u001b[0md1\u001b[0m\u001b[0;34m,\u001b[0m\u001b[0mtotal_votes\u001b[0m\u001b[0;34m,\u001b[0m\u001b[0md2\u001b[0m\u001b[0;34m,\u001b[0m\u001b[0mcandidate1\u001b[0m\u001b[0;34m,\u001b[0m\u001b[0mcandidate2\u001b[0m\u001b[0;34m,\u001b[0m\u001b[0mcandidate3\u001b[0m\u001b[0;34m,\u001b[0m\u001b[0mcandidate4\u001b[0m\u001b[0;34m,\u001b[0m\u001b[0md3\u001b[0m\u001b[0;34m,\u001b[0m\u001b[0mwinningcandidate\u001b[0m\u001b[0;34m,\u001b[0m\u001b[0md4\u001b[0m\u001b[0;34m)\u001b[0m\u001b[0;34m)\u001b[0m\u001b[0;34m\u001b[0m\u001b[0;34m\u001b[0m\u001b[0m\n\u001b[0m",
      "\u001b[0;31mIndexError\u001b[0m: Replacement index 11 out of range for positional args tuple"
     ]
    }
   ],
   "source": [
    "#load dependencies\n",
    "import pathlib\n",
    "import csv\n",
    "\n",
    "#read CSV file and skipping first line of headers\n",
    "csvpath = pathlib.Path('Resources/election_data.csv')\n",
    "with open(csvpath) as csvfile:\n",
    "    electiondata = csv.reader(csvfile, delimiter = ',')\n",
    "    electiondata_header = next(electiondata)\n",
    "    \n",
    "    #set lists/variables\n",
    "    totalvotes=[]\n",
    "    khan=0\n",
    "    correy=0\n",
    "    li=0\n",
    "    otooley=0\n",
    "    \n",
    "    #Loop through each row of electiondataadding data to the appropriate lists\n",
    "    for row in electiondata:\n",
    "        totalvotes.append(row[0])\n",
    "        countvotes = len(totalvotes)\n",
    "        \n",
    "        if row[2] == \"Khan\":\n",
    "            khan +=1\n",
    "            khanpercentage = (khan/countvotes) * 100\n",
    "            \n",
    "        if row[2] == \"Correy\":\n",
    "            correy +=1\n",
    "            correypercentage = (correy/countvotes) * 100\n",
    "        \n",
    "        if row[2] == \"Li\":\n",
    "            li +=1\n",
    "            lipercentage = (li/countvotes) * 100        \n",
    "        \n",
    "        if row[2] == \"O'Tooley\":\n",
    "            otooley +=1\n",
    "            otooleypercentage = (otooley/countvotes) * 100  \n",
    "            \n",
    "    #Print Results Report\n",
    "    print(\"Election Results\")\n",
    "    print(\"--------------------------\")\n",
    "    print(f\"Total Votes: {countvotes}\")\n",
    "    print(\"--------------------------\")\n",
    "    print(f\"Khan: {khanpercentage:.3f}% ({khan})\")\n",
    "    print(f\"Correy: {correypercentage:.3f}% ({correy})\")\n",
    "    print(f\"Li: {lipercentage:.3f}% ({li})\")\n",
    "    print(f\"O'Tooley:{otooleypercentage:.3f}% ({otooley})\")\n",
    "    print(f\"----------------------------\")\n",
    "    print(f\"Winner: Khan\")\n",
    "    print(f\"----------------------------\")\n",
    "    \n",
    "    #Save Report to .txt file\n",
    "    output_file = pathlib.Path('Analysis/report.txt')\n",
    "\n",
    "    with open(output_file, \"w\") as report:\n",
    "        \n",
    "        title = (\"Election Results\")\n",
    "        d1 = (\"--------------------------\")\n",
    "        total_votes = (f\"Total Votes: {countvotes}\")\n",
    "        d2 = (\"--------------------------\")\n",
    "        candidate1 = (f\"Khan: {khanpercentage:.3f}% ({khan})\")\n",
    "        candidate2 = (f\"Correy: {correypercentage:.3f}% ({correy})\")\n",
    "        candidate3 = (f\"Li: {lipercentage:.3f}% ({li})\")\n",
    "        candidate4 =(f\"O'Tooley:{otooleypercentage:.3f}% ({otooley})\")\n",
    "        d3 = (f\"----------------------------\")\n",
    "        winningcandidate = (f\"Winner: Khan\")\n",
    "        d4 =(f\"----------------------------\")\n",
    "    \n",
    "        report.write('{}\\\\n{}\\\\n{}\\\\n{}\\\\n{}\\\\n{}\\\\n{}\\\\n{}\\\\n{}\\\\n{}\\\\n{}\\\\n'.format(title,d1,total_votes,d2,candidate1,candidate2,candidate3,candidate4,d3,winningcandidate,d4))"
   ]
  },
  {
   "cell_type": "code",
   "execution_count": null,
   "id": "ebfde993-4c7e-4e48-b30d-8d7da9ae5edf",
   "metadata": {},
   "outputs": [],
   "source": []
  }
 ],
 "metadata": {
  "kernelspec": {
   "display_name": "Python 3",
   "language": "python",
   "name": "python3"
  },
  "language_info": {
   "codemirror_mode": {
    "name": "ipython",
    "version": 3
   },
   "file_extension": ".py",
   "mimetype": "text/x-python",
   "name": "python",
   "nbconvert_exporter": "python",
   "pygments_lexer": "ipython3",
   "version": "3.8.8"
  }
 },
 "nbformat": 4,
 "nbformat_minor": 5
}
